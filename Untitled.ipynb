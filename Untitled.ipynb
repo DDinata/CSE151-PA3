{
 "cells": [
  {
   "cell_type": "code",
   "execution_count": 86,
   "metadata": {},
   "outputs": [],
   "source": [
    "import numpy"
   ]
  },
  {
   "cell_type": "code",
   "execution_count": 87,
   "metadata": {},
   "outputs": [],
   "source": [
    "train = numpy.loadtxt(\"pa3train.txt\")\n",
    "test = numpy.loadtxt(\"pa3test.txt\")\n",
    "feature_len = len(train[0])-1"
   ]
  },
  {
   "cell_type": "code",
   "execution_count": 88,
   "metadata": {},
   "outputs": [],
   "source": [
    "def sign(number):\n",
    "    return 1 if number >= 0 else -1"
   ]
  },
  {
   "cell_type": "code",
   "execution_count": 89,
   "metadata": {},
   "outputs": [],
   "source": [
    "def train_percepie_boy(train, passes, label_one):\n",
    "    w = numpy.zeros(feature_len)\n",
    "\n",
    "    for p in range(passes):\n",
    "        for point in train:\n",
    "            label = 1 if label_one == point[feature_len] else -1\n",
    "            if  label * numpy.dot(w, point[:feature_len]) <= 0:\n",
    "                w = w + (label * point[:feature_len])\n",
    "\n",
    "    return w\n",
    "            "
   ]
  },
  {
   "cell_type": "code",
   "execution_count": 90,
   "metadata": {},
   "outputs": [],
   "source": [
    "def perceptron_error(test, w, label):\n",
    "    wrong = 0\n",
    "    for point in test:\n",
    "        sign = numpy.dot(w, point[:feature_len])\n",
    "        if  sign < 0 and point[feature_len] == label:\n",
    "            wrong += 1\n",
    "        elif sign >= 0 and point[feature_len] != label:\n",
    "            wrong += 1\n",
    "     \n",
    "    return wrong/len(test)        \n",
    "    "
   ]
  },
  {
   "cell_type": "code",
   "execution_count": 91,
   "metadata": {},
   "outputs": [],
   "source": [
    "def train_voted_perceptron(train, passes, label_one):\n",
    "    w = numpy.zeros(feature_len)\n",
    "    c = 1\n",
    "    classifiers = []\n",
    "    for p in range(passes):\n",
    "        for point in train:\n",
    "            label = 1 if label_one == point[feature_len] else -1\n",
    "            if  label * numpy.dot(w, point[:feature_len]) <= 0:\n",
    "                classifiers.append((w, c))\n",
    "                w = w + (label * point[:feature_len])\n",
    "                c = 1 \n",
    "            else:\n",
    "                c += 1\n",
    "\n",
    "    classifiers.append((w, c))\n",
    "    return classifiers"
   ]
  },
  {
   "cell_type": "code",
   "execution_count": 92,
   "metadata": {},
   "outputs": [],
   "source": [
    "def voted_perceptron_error(test, classifiers, label):\n",
    "    wrong  = 0\n",
    "    \n",
    "    for point in test:\n",
    "        test_feat = point[:feature_len]\n",
    "        pred = 0\n",
    "        for c in classifiers:\n",
    "            pred += c[1] * sign(numpy.dot(c[0], test_feat))\n",
    "        if sign(pred) < 0 and point[feature_len] == label:\n",
    "            wrong += 1 \n",
    "        elif sign(pred) >= 0 and point[feature_len] != label:\n",
    "            wrong += 1\n",
    "    return wrong/len(test)"
   ]
  },
  {
   "cell_type": "code",
   "execution_count": 93,
   "metadata": {},
   "outputs": [],
   "source": [
    "def average_perceptron_error(test, classifers, label):\n",
    "    wrong = 0\n",
    "    w = sum([classi[0] * classi[1] for classi in classifers])\n",
    "    for point in test:\n",
    "        sign = numpy.dot(w, point[:feature_len])\n",
    "        if  sign < 0 and point[feature_len] == label:\n",
    "            wrong += 1\n",
    "        elif sign >= 0 and point[feature_len] != label:\n",
    "            wrong += 1   \n",
    "    return wrong/len(test)"
   ]
  },
  {
   "cell_type": "code",
   "execution_count": 111,
   "metadata": {},
   "outputs": [],
   "source": [
    "one_two_subset = [point for point in train if point[len(point)-1] == 1 or point[len(point)-1] == 2]\n",
    "one_two_subset_t = [point for point in test if point[len(point)-1] == 1 or point[len(point)-1] == 2]"
   ]
  },
  {
   "cell_type": "code",
   "execution_count": 117,
   "metadata": {},
   "outputs": [
    {
     "name": "stdout",
     "output_type": "stream",
     "text": [
      "0.03577981651376147\n",
      "0.0610079575596817\n",
      "0.01834862385321101\n",
      "0.04509283819628647\n",
      "0.01651376146788991\n",
      "0.04509283819628647\n"
     ]
    }
   ],
   "source": [
    "for passes in range(2,5):\n",
    "    w = train_percepie_boy(one_two_subset, passes, 1)\n",
    "    print(perceptron_error(one_two_subset, w, 1))\n",
    "    print(perceptron_error(one_two_subset_t, w, 1))"
   ]
  },
  {
   "cell_type": "code",
   "execution_count": 119,
   "metadata": {},
   "outputs": [
    {
     "name": "stdout",
     "output_type": "stream",
     "text": [
      "0.03853211009174312\n",
      "0.0610079575596817\n",
      "0.026605504587155965\n",
      "0.042440318302387266\n",
      "0.022018348623853212\n",
      "0.04509283819628647\n"
     ]
    }
   ],
   "source": [
    "for passes in range(2,5):\n",
    "    classis = train_voted_perceptron(one_two_subset, passes, 1)\n",
    "    print(voted_perceptron_error(one_two_subset, classis, 1))\n",
    "    print(voted_perceptron_error(one_two_subset_t, classis, 1))"
   ]
  },
  {
   "cell_type": "code",
   "execution_count": 120,
   "metadata": {},
   "outputs": [
    {
     "name": "stdout",
     "output_type": "stream",
     "text": [
      "0.05137614678899083\n",
      "0.08222811671087533\n",
      "0.03486238532110092\n",
      "0.0610079575596817\n",
      "0.031192660550458717\n",
      "0.050397877984084884\n"
     ]
    }
   ],
   "source": [
    "for passes in range(2,5):\n",
    "    classis = train_voted_perceptron(one_two_subset, passes, 1)\n",
    "    print(average_perceptron_error(one_two_subset, classis, 1))\n",
    "    print(average_perceptron_error(one_two_subset_t, classis, 1))"
   ]
  },
  {
   "cell_type": "code",
   "execution_count": 104,
   "metadata": {},
   "outputs": [
    {
     "name": "stdout",
     "output_type": "stream",
     "text": [
      "top 3:\n",
      "['file']\n",
      "['program']\n",
      "['line']\n",
      "bot 3:\n",
      "['he']\n",
      "['team']\n",
      "['game']\n"
     ]
    }
   ],
   "source": [
    "from heapq import nlargest, nsmallest\n",
    "\n",
    "classis = train_voted_perceptron(one_two_subset, 3, 1)\n",
    "w = sum([classi[0] * classi[1] for classi in classis])\n",
    "\n",
    "top = nlargest(3, enumerate(w), key=lambda x:x[1])  # returns list of (index, value)\n",
    "bot = nsmallest(3, enumerate(w), key=lambda x:x[1])  # returns list of (index, value)\n",
    "\n",
    "diction = []\n",
    "\n",
    "for line in open(\"pa3dictionary.txt\", 'r'):\n",
    "    diction.append(line.strip().split('/n')) \n",
    "\n",
    "print(\"top 3:\")\n",
    "print(diction[top[0][0]])\n",
    "print(diction[top[1][0]])\n",
    "print(diction[top[2][0]])\n",
    "print(\"bot 3:\")\n",
    "print(diction[bot[0][0]])\n",
    "print(diction[bot[1][0]])\n",
    "print(diction[bot[2][0]])"
   ]
  },
  {
   "cell_type": "code",
   "execution_count": 105,
   "metadata": {},
   "outputs": [],
   "source": [
    "def train_one_vs_all(train):\n",
    "    classis = []\n",
    "    for label in range(1,7):\n",
    "        classis.append(train_percepie_boy(train, 1, label))\n",
    "    return classis"
   ]
  },
  {
   "cell_type": "code",
   "execution_count": 106,
   "metadata": {},
   "outputs": [],
   "source": [
    "def one_vs_all(test, classifiers):\n",
    "    preds = []\n",
    "    for point in test:\n",
    "        pred = [sign(numpy.dot(classi, point[:feature_len])) for classi in classifiers]\n",
    "        if sum(pred) == -4:\n",
    "            preds.append(pred.index(1)+1)\n",
    "        else:\n",
    "            preds.append(0)\n",
    "    return preds"
   ]
  },
  {
   "cell_type": "code",
   "execution_count": 107,
   "metadata": {
    "scrolled": true
   },
   "outputs": [],
   "source": [
    "from sklearn.metrics import confusion_matrix\n",
    "from sklearn.preprocessing import normalize\n",
    "\n",
    "classis = train_one_vs_all(train)\n",
    "preds = one_vs_all(test, classis)\n",
    "actual = [point[feature_len] for point in test]\n",
    "con_mat = confusion_matrix(actual, preds)\n",
    "con_mat = con_mat.astype(numpy.float64)\n",
    "con_mat = normalize(con_mat, norm='l1')\n",
    "con_mat = con_mat[1:]\n",
    "con_mat = con_mat.transpose()"
   ]
  },
  {
   "cell_type": "code",
   "execution_count": 108,
   "metadata": {},
   "outputs": [
    {
     "data": {
      "text/plain": [
       "<matplotlib.axes._subplots.AxesSubplot at 0x181f3e26160>"
      ]
     },
     "execution_count": 108,
     "metadata": {},
     "output_type": "execute_result"
    }
   ],
   "source": [
    "import seaborn as sn\n",
    "import pandas as pd\n",
    "import matplotlib.pyplot as plt\n",
    "\n",
    "df_cm = pd.DataFrame(con_mat, index = [i for i in \"0123456\"],\n",
    "                  columns = [i for i in \"123456\"])\n",
    "plt.figure(figsize = (10,7))\n",
    "sn.heatmap(df_cm, annot=True)"
   ]
  },
  {
   "cell_type": "markdown",
   "metadata": {},
   "source": [
    "1. \n",
    "    Perceptron:\n",
    "    2 Passes\n",
    "        Train error - \n",
    "            0.03577981651376147\n",
    "        Test error -  \n",
    "            0.0610079575596817\n",
    "    3 Passes\n",
    "        Train error - \n",
    "            0.01834862385321101\n",
    "        Test error -  \n",
    "            0.04509283819628647\n",
    "    4 Passes\n",
    "        Train error - \n",
    "            0.01651376146788991\n",
    "        Test error -  \n",
    "            0.04509283819628647\n",
    "    \n",
    "    Voted Perceptron:\n",
    "    2 Passes\n",
    "        Train error - \n",
    "            0.03853211009174312\n",
    "        Test error -  \n",
    "            0.0610079575596817\n",
    "    3 Passes\n",
    "        Train error - \n",
    "            0.026605504587155965\n",
    "        Test error -  \n",
    "            0.042440318302387266\n",
    "    4 Passes\n",
    "        Train error -         \n",
    "            0.022018348623853212\n",
    "        Test error -  \n",
    "            0.04509283819628647\n",
    "            \n",
    "    Average Perceptron:\n",
    "    2 Passes\n",
    "        Train error - \n",
    "            0.05137614678899083\n",
    "        Test error -  \n",
    "            0.08222811671087533\n",
    "    3 Passes\n",
    "        Train error - \n",
    "            0.03486238532110092\n",
    "        Test error -  \n",
    "            0.0610079575596817\n",
    "    4 Passes\n",
    "        Train error - \n",
    "            0.031192660550458717\n",
    "        Test error -  \n",
    "            0.050397877984084884\n",
    "            \n",
    "2. The top three words are 'file', 'program' and 'line'\n",
    "   The bottom three words are 'he', 'team' and 'game'"
   ]
  },
  {
   "cell_type": "code",
   "execution_count": 121,
   "metadata": {},
   "outputs": [
    {
     "data": {
      "image/png": "[encoded data removed]",
      "text/plain": [
       "<Figure size 720x504 with 2 Axes>"
      ]
     },
     "metadata": {},
     "output_type": "display_data"
    }
   ],
   "source": [
    "plt.show()"
   ]
  },
  {
   "cell_type": "markdown",
   "metadata": {},
   "source": [
    "3.  a. Classifier 5\n",
    "    b. Classifier 3\n",
    "    c. Classifier 5"
   ]
  }
 ],
 "metadata": {
  "kernelspec": {
   "display_name": "Python 3",
   "language": "python",
   "name": "python3"
  },
  "language_info": {
   "codemirror_mode": {
    "name": "ipython",
    "version": 3
   },
   "file_extension": ".py",
   "mimetype": "text/x-python",
   "name": "python",
   "nbconvert_exporter": "python",
   "pygments_lexer": "ipython3",
   "version": "3.5.4"
  }
 },
 "nbformat": 4,
 "nbformat_minor": 2
}
